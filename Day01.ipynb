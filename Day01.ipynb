{
 "cells": [
  {
   "cell_type": "markdown",
   "metadata": {},
   "source": [
    "# Day 1: Not Quite Lisp"
   ]
  },
  {
   "cell_type": "markdown",
   "metadata": {},
   "source": [
    "## Part 1\n",
    "\n",
    "Santa was hoping for a white Christmas, but his weather machine's \"snow\" function is powered by stars, and he's fresh out! To save Christmas, he needs you to collect fifty stars by December 25th.\n",
    "\n",
    "Collect stars by helping Santa solve puzzles. Two puzzles will be made available on each day in the Advent calendar; the second puzzle is unlocked when you complete the first. Each puzzle grants one star. Good luck!\n",
    "\n",
    "Here's an easy puzzle to warm you up.\n",
    "\n",
    "Santa is trying to deliver presents in a large apartment building, but he can't find the right floor - the directions he got are a little confusing. He starts on the ground floor (floor 0) and then follows the instructions one character at a time.\n",
    "\n",
    "An opening parenthesis, `(`, means he should go up one floor, and a closing parenthesis, `)`, means he should go down one floor.\n",
    "\n",
    "The apartment building is very tall, and the basement is very deep; he will never find the top or bottom floors.\n",
    "\n",
    "For example:\n",
    "\n",
    "* `(())` and `()()` both result in floor 0.\n",
    "\n",
    "* `(((` and `(()(()(` both result in floor 3.\n",
    "\n",
    "* `))(((((` also results in floor 3.\n",
    "\n",
    "* `())` and `))(` both result in floor -1 (the first basement level).\n",
    "\n",
    "* `)))` and `)())())` both result in floor -3.\n",
    "\n",
    "To what floor do the instructions take Santa?\n",
    "\n",
    "---"
   ]
  },
  {
   "cell_type": "code",
   "execution_count": 1,
   "metadata": {},
   "outputs": [],
   "source": [
    "# Initial variables\n",
    "starting_floor = 0\n",
    "inputs = [1 if i=='(' else -1 for i in open('day01.in').readline()]"
   ]
  },
  {
   "cell_type": "code",
   "execution_count": 2,
   "metadata": {},
   "outputs": [
    {
     "name": "stdout",
     "output_type": "stream",
     "text": [
      "Santa is instructed to go to floor 138.\n"
     ]
    }
   ],
   "source": [
    "# One liner\n",
    "print(f\"Santa is instructed to go to floor {starting_floor + sum(inputs)}.\")"
   ]
  },
  {
   "cell_type": "markdown",
   "metadata": {},
   "source": [
    "---\n",
    "## Part 2\n",
    "\n",
    "Now, given the same instructions, find the position of the first character that causes him to enter the basement (floor -1). The first character in the instructions has position 1, the second character has position 2, and so on.\n",
    "\n",
    "For example:\n",
    "\n",
    "* `)` causes him to enter the basement at character position 1.\n",
    "\n",
    "* `()())` causes him to enter the basement at character position 5.\n",
    "\n",
    "What is the position of the character that causes Santa to first enter the basement?\n",
    "\n",
    "---"
   ]
  },
  {
   "cell_type": "code",
   "execution_count": 3,
   "metadata": {},
   "outputs": [
    {
     "name": "stdout",
     "output_type": "stream",
     "text": [
      "Santa first enters the basement at position 1771.\n"
     ]
    }
   ],
   "source": [
    "# Efficient\n",
    "floor = starting_floor\n",
    "\n",
    "for pos, i in enumerate(inputs):\n",
    "    floor += i\n",
    "    if floor < 0:\n",
    "        # Python is 0 indexed\n",
    "        position = pos + 1\n",
    "        break\n",
    "else:\n",
    "    raise Exception(\"Santa never enters the basement.\")\n",
    "        \n",
    "print(f\"Santa first enters the basement at position {position}.\")"
   ]
  },
  {
   "cell_type": "code",
   "execution_count": 4,
   "metadata": {},
   "outputs": [
    {
     "name": "stdout",
     "output_type": "stream",
     "text": [
      "Santa first enters the basement at position 1771.\n"
     ]
    }
   ],
   "source": [
    "# One liner\n",
    "print(f\"Santa first enters the basement at position {[sum(inputs[:i]) for i in range(len(inputs))].index(-1)}.\")"
   ]
  },
  {
   "cell_type": "markdown",
   "metadata": {},
   "source": [
    "---"
   ]
  }
 ],
 "metadata": {
  "kernelspec": {
   "display_name": "Python 3",
   "language": "python",
   "name": "python3"
  },
  "language_info": {
   "codemirror_mode": {
    "name": "ipython",
    "version": 3
   },
   "file_extension": ".py",
   "mimetype": "text/x-python",
   "name": "python",
   "nbconvert_exporter": "python",
   "pygments_lexer": "ipython3",
   "version": "3.7.8"
  }
 },
 "nbformat": 4,
 "nbformat_minor": 4
}
